{
  "nbformat": 4,
  "nbformat_minor": 0,
  "metadata": {
    "colab": {
      "name": "Avaliação-Talles Ian e Erick Santos.ipynb",
      "provenance": [],
      "collapsed_sections": [],
      "toc_visible": true
    },
    "kernelspec": {
      "name": "python3",
      "display_name": "Python 3"
    },
    "language_info": {
      "name": "python"
    }
  },
  "cells": [
    {
      "cell_type": "markdown",
      "source": [
        "#**Atividade Tópicos Especiais em IA**\n",
        "###**Erick Santos e Talles Ian**\n",
        "\n",
        "[dataBase csv](https://drive.google.com/file/d/1mp62-oPvL2wdwkwxrzS9jlSieJW04sEm/view?usp=sharing)"
      ],
      "metadata": {
        "id": "DhPyQj8-1F7F"
      }
    },
    {
      "cell_type": "code",
      "source": [
        "!sudo apt-get install libportaudio2\n",
        "!pip install sounddevice"
      ],
      "metadata": {
        "colab": {
          "base_uri": "https://localhost:8080/"
        },
        "id": "bYd1c81fZ9iw",
        "outputId": "3da6000b-0f2c-44a3-ab40-ca84f1df6f68"
      },
      "execution_count": null,
      "outputs": [
        {
          "output_type": "stream",
          "name": "stdout",
          "text": [
            "Reading package lists... Done\n",
            "Building dependency tree       \n",
            "Reading state information... Done\n",
            "libportaudio2 is already the newest version (19.6.0-1).\n",
            "The following package was automatically installed and is no longer required:\n",
            "  libnvidia-common-460\n",
            "Use 'sudo apt autoremove' to remove it.\n",
            "0 upgraded, 0 newly installed, 0 to remove and 42 not upgraded.\n",
            "Looking in indexes: https://pypi.org/simple, https://us-python.pkg.dev/colab-wheels/public/simple/\n",
            "Requirement already satisfied: sounddevice in /usr/local/lib/python3.7/dist-packages (0.4.4)\n",
            "Requirement already satisfied: CFFI>=1.0 in /usr/local/lib/python3.7/dist-packages (from sounddevice) (1.15.0)\n",
            "Requirement already satisfied: pycparser in /usr/local/lib/python3.7/dist-packages (from CFFI>=1.0->sounddevice) (2.21)\n"
          ]
        }
      ]
    },
    {
      "cell_type": "code",
      "source": [
        "import pandas as pd\n",
        "import matplotlib.pyplot as plt\n",
        "import numpy as np\n",
        "from statsmodels.tsa.statespace.sarimax import SARIMAX\n",
        "from statsmodels.tsa.stattools import adfuller\n",
        "from statsmodels.stats.diagnostic import acorr_ljungbox\n",
        "from statsmodels.graphics.tsaplots import plot_acf, plot_pacf\n",
        "from itertools import product\n",
        "from tqdm.notebook import tqdm\n",
        "from typing import Union"
      ],
      "metadata": {
        "colab": {
          "base_uri": "https://localhost:8080/"
        },
        "id": "u47VSgFqXqlH",
        "outputId": "414e0515-fd26-4cd9-ee7b-45d9691e0ffd"
      },
      "execution_count": null,
      "outputs": [
        {
          "output_type": "stream",
          "name": "stderr",
          "text": [
            "/usr/local/lib/python3.7/dist-packages/statsmodels/tools/_testing.py:19: FutureWarning: pandas.util.testing is deprecated. Use the functions in the public API at pandas.testing instead.\n",
            "  import pandas.util.testing as tm\n"
          ]
        }
      ]
    },
    {
      "cell_type": "code",
      "source": [
        "import numpy as np \n",
        "import matplotlib.pyplot as plt\n",
        "plt.rcParams.update({'font.size': 14})\n",
        "from scipy import signal\n",
        "import IPython.display as ipd \n",
        "import sounddevice as sd\n",
        "import soundfile as sf \n",
        "import pandas as pd"
      ],
      "metadata": {
        "id": "p0RehfcwXvg2"
      },
      "execution_count": null,
      "outputs": []
    },
    {
      "cell_type": "code",
      "source": [
        "import numpy as np\n",
        "import pandas as pd\n",
        "url ='https://drive.google.com/file/d/1mp62-oPvL2wdwkwxrzS9jlSieJW04sEm/view?usp=sharing'\n",
        "path = 'https://drive.google.com/uc?export=download&id='+url.split('/')[-2]\n",
        "data = np.loadtxt(path, unpack = True)\n",
        "data = data.reshape(-1,1)\n",
        "data = pd.DataFrame(data)\n",
        "data = pd.concat([pd.Series(pd.date_range(\"1960\", freq=\"Y\", periods=60)), data], axis=1)\n",
        "data.columns =['Year', 'Croatia Population']\n",
        "data.set_index('Year', inplace=True)\n",
        "data\n",
        "\n",
        "\n",
        "\n",
        "\n",
        "\n"
      ],
      "metadata": {
        "id": "XYEWRi9CejSK",
        "colab": {
          "base_uri": "https://localhost:8080/",
          "height": 1000
        },
        "outputId": "bf417bfc-3a64-4069-d58d-2ab3989c1307"
      },
      "execution_count": null,
      "outputs": [
        {
          "output_type": "execute_result",
          "data": {
            "text/plain": [
              "            Croatia Population\n",
              "Year                          \n",
              "1960-12-31            0.652692\n",
              "1961-12-31            0.703494\n",
              "1962-12-31            0.687765\n",
              "1963-12-31            0.641645\n",
              "1964-12-31            0.657318\n",
              "1965-12-31            0.693190\n",
              "1966-12-31            0.647031\n",
              "1967-12-31            0.619120\n",
              "1968-12-31            0.590653\n",
              "1969-12-31            0.471664\n",
              "1970-12-31            0.430214\n",
              "1971-12-31            0.434348\n",
              "1972-12-31            0.439360\n",
              "1973-12-31            0.457526\n",
              "1974-12-31            0.475900\n",
              "1975-12-31            0.527233\n",
              "1976-12-31            0.519752\n",
              "1977-12-31            0.470733\n",
              "1978-12-31            0.298457\n",
              "1979-12-31            0.108847\n",
              "1980-12-31            0.254622\n",
              "1981-12-31            0.491579\n",
              "1982-12-31            0.516978\n",
              "1983-12-31            0.471831\n",
              "1984-12-31            0.450495\n",
              "1985-12-31            0.425116\n",
              "1986-12-31            0.386823\n",
              "1987-12-31            0.325689\n",
              "1988-12-31            0.253149\n",
              "1989-12-31            0.211805\n",
              "1990-12-31           -1.866574\n",
              "1991-12-31           -2.443855\n",
              "1992-12-31            0.537147\n",
              "1993-12-31            1.114544\n",
              "1994-12-31           -0.690120\n",
              "1995-12-31           -1.371540\n",
              "1996-12-31           -0.487836\n",
              "1997-12-31           -0.061431\n",
              "1998-12-31           -0.432031\n",
              "1999-12-31           -0.986435\n",
              "2000-12-31           -3.847671\n",
              "2001-12-31            0.058871\n",
              "2002-12-31            0.028470\n",
              "2003-12-31            0.027904\n",
              "2004-12-31            0.128733\n",
              "2005-12-31            0.023523\n",
              "2006-12-31           -0.021853\n",
              "2007-12-31           -0.011879\n",
              "2008-12-31           -0.105028\n",
              "2009-12-31           -0.226821\n",
              "2010-12-31           -0.345264\n",
              "2011-12-31           -0.305656\n",
              "2012-12-31           -0.278509\n",
              "2013-12-31           -0.407343\n",
              "2014-12-31           -0.824099\n",
              "2015-12-31           -0.698383\n",
              "2016-12-31           -1.200610\n",
              "2017-12-31           -0.893487\n",
              "2018-12-31           -0.554147\n",
              "2019-12-31           -0.433210"
            ],
            "text/html": [
              "\n",
              "  <div id=\"df-cbcb87d2-0bdd-4232-9a4e-e1cea9b35cbb\">\n",
              "    <div class=\"colab-df-container\">\n",
              "      <div>\n",
              "<style scoped>\n",
              "    .dataframe tbody tr th:only-of-type {\n",
              "        vertical-align: middle;\n",
              "    }\n",
              "\n",
              "    .dataframe tbody tr th {\n",
              "        vertical-align: top;\n",
              "    }\n",
              "\n",
              "    .dataframe thead th {\n",
              "        text-align: right;\n",
              "    }\n",
              "</style>\n",
              "<table border=\"1\" class=\"dataframe\">\n",
              "  <thead>\n",
              "    <tr style=\"text-align: right;\">\n",
              "      <th></th>\n",
              "      <th>Croatia Population</th>\n",
              "    </tr>\n",
              "    <tr>\n",
              "      <th>Year</th>\n",
              "      <th></th>\n",
              "    </tr>\n",
              "  </thead>\n",
              "  <tbody>\n",
              "    <tr>\n",
              "      <th>1960-12-31</th>\n",
              "      <td>0.652692</td>\n",
              "    </tr>\n",
              "    <tr>\n",
              "      <th>1961-12-31</th>\n",
              "      <td>0.703494</td>\n",
              "    </tr>\n",
              "    <tr>\n",
              "      <th>1962-12-31</th>\n",
              "      <td>0.687765</td>\n",
              "    </tr>\n",
              "    <tr>\n",
              "      <th>1963-12-31</th>\n",
              "      <td>0.641645</td>\n",
              "    </tr>\n",
              "    <tr>\n",
              "      <th>1964-12-31</th>\n",
              "      <td>0.657318</td>\n",
              "    </tr>\n",
              "    <tr>\n",
              "      <th>1965-12-31</th>\n",
              "      <td>0.693190</td>\n",
              "    </tr>\n",
              "    <tr>\n",
              "      <th>1966-12-31</th>\n",
              "      <td>0.647031</td>\n",
              "    </tr>\n",
              "    <tr>\n",
              "      <th>1967-12-31</th>\n",
              "      <td>0.619120</td>\n",
              "    </tr>\n",
              "    <tr>\n",
              "      <th>1968-12-31</th>\n",
              "      <td>0.590653</td>\n",
              "    </tr>\n",
              "    <tr>\n",
              "      <th>1969-12-31</th>\n",
              "      <td>0.471664</td>\n",
              "    </tr>\n",
              "    <tr>\n",
              "      <th>1970-12-31</th>\n",
              "      <td>0.430214</td>\n",
              "    </tr>\n",
              "    <tr>\n",
              "      <th>1971-12-31</th>\n",
              "      <td>0.434348</td>\n",
              "    </tr>\n",
              "    <tr>\n",
              "      <th>1972-12-31</th>\n",
              "      <td>0.439360</td>\n",
              "    </tr>\n",
              "    <tr>\n",
              "      <th>1973-12-31</th>\n",
              "      <td>0.457526</td>\n",
              "    </tr>\n",
              "    <tr>\n",
              "      <th>1974-12-31</th>\n",
              "      <td>0.475900</td>\n",
              "    </tr>\n",
              "    <tr>\n",
              "      <th>1975-12-31</th>\n",
              "      <td>0.527233</td>\n",
              "    </tr>\n",
              "    <tr>\n",
              "      <th>1976-12-31</th>\n",
              "      <td>0.519752</td>\n",
              "    </tr>\n",
              "    <tr>\n",
              "      <th>1977-12-31</th>\n",
              "      <td>0.470733</td>\n",
              "    </tr>\n",
              "    <tr>\n",
              "      <th>1978-12-31</th>\n",
              "      <td>0.298457</td>\n",
              "    </tr>\n",
              "    <tr>\n",
              "      <th>1979-12-31</th>\n",
              "      <td>0.108847</td>\n",
              "    </tr>\n",
              "    <tr>\n",
              "      <th>1980-12-31</th>\n",
              "      <td>0.254622</td>\n",
              "    </tr>\n",
              "    <tr>\n",
              "      <th>1981-12-31</th>\n",
              "      <td>0.491579</td>\n",
              "    </tr>\n",
              "    <tr>\n",
              "      <th>1982-12-31</th>\n",
              "      <td>0.516978</td>\n",
              "    </tr>\n",
              "    <tr>\n",
              "      <th>1983-12-31</th>\n",
              "      <td>0.471831</td>\n",
              "    </tr>\n",
              "    <tr>\n",
              "      <th>1984-12-31</th>\n",
              "      <td>0.450495</td>\n",
              "    </tr>\n",
              "    <tr>\n",
              "      <th>1985-12-31</th>\n",
              "      <td>0.425116</td>\n",
              "    </tr>\n",
              "    <tr>\n",
              "      <th>1986-12-31</th>\n",
              "      <td>0.386823</td>\n",
              "    </tr>\n",
              "    <tr>\n",
              "      <th>1987-12-31</th>\n",
              "      <td>0.325689</td>\n",
              "    </tr>\n",
              "    <tr>\n",
              "      <th>1988-12-31</th>\n",
              "      <td>0.253149</td>\n",
              "    </tr>\n",
              "    <tr>\n",
              "      <th>1989-12-31</th>\n",
              "      <td>0.211805</td>\n",
              "    </tr>\n",
              "    <tr>\n",
              "      <th>1990-12-31</th>\n",
              "      <td>-1.866574</td>\n",
              "    </tr>\n",
              "    <tr>\n",
              "      <th>1991-12-31</th>\n",
              "      <td>-2.443855</td>\n",
              "    </tr>\n",
              "    <tr>\n",
              "      <th>1992-12-31</th>\n",
              "      <td>0.537147</td>\n",
              "    </tr>\n",
              "    <tr>\n",
              "      <th>1993-12-31</th>\n",
              "      <td>1.114544</td>\n",
              "    </tr>\n",
              "    <tr>\n",
              "      <th>1994-12-31</th>\n",
              "      <td>-0.690120</td>\n",
              "    </tr>\n",
              "    <tr>\n",
              "      <th>1995-12-31</th>\n",
              "      <td>-1.371540</td>\n",
              "    </tr>\n",
              "    <tr>\n",
              "      <th>1996-12-31</th>\n",
              "      <td>-0.487836</td>\n",
              "    </tr>\n",
              "    <tr>\n",
              "      <th>1997-12-31</th>\n",
              "      <td>-0.061431</td>\n",
              "    </tr>\n",
              "    <tr>\n",
              "      <th>1998-12-31</th>\n",
              "      <td>-0.432031</td>\n",
              "    </tr>\n",
              "    <tr>\n",
              "      <th>1999-12-31</th>\n",
              "      <td>-0.986435</td>\n",
              "    </tr>\n",
              "    <tr>\n",
              "      <th>2000-12-31</th>\n",
              "      <td>-3.847671</td>\n",
              "    </tr>\n",
              "    <tr>\n",
              "      <th>2001-12-31</th>\n",
              "      <td>0.058871</td>\n",
              "    </tr>\n",
              "    <tr>\n",
              "      <th>2002-12-31</th>\n",
              "      <td>0.028470</td>\n",
              "    </tr>\n",
              "    <tr>\n",
              "      <th>2003-12-31</th>\n",
              "      <td>0.027904</td>\n",
              "    </tr>\n",
              "    <tr>\n",
              "      <th>2004-12-31</th>\n",
              "      <td>0.128733</td>\n",
              "    </tr>\n",
              "    <tr>\n",
              "      <th>2005-12-31</th>\n",
              "      <td>0.023523</td>\n",
              "    </tr>\n",
              "    <tr>\n",
              "      <th>2006-12-31</th>\n",
              "      <td>-0.021853</td>\n",
              "    </tr>\n",
              "    <tr>\n",
              "      <th>2007-12-31</th>\n",
              "      <td>-0.011879</td>\n",
              "    </tr>\n",
              "    <tr>\n",
              "      <th>2008-12-31</th>\n",
              "      <td>-0.105028</td>\n",
              "    </tr>\n",
              "    <tr>\n",
              "      <th>2009-12-31</th>\n",
              "      <td>-0.226821</td>\n",
              "    </tr>\n",
              "    <tr>\n",
              "      <th>2010-12-31</th>\n",
              "      <td>-0.345264</td>\n",
              "    </tr>\n",
              "    <tr>\n",
              "      <th>2011-12-31</th>\n",
              "      <td>-0.305656</td>\n",
              "    </tr>\n",
              "    <tr>\n",
              "      <th>2012-12-31</th>\n",
              "      <td>-0.278509</td>\n",
              "    </tr>\n",
              "    <tr>\n",
              "      <th>2013-12-31</th>\n",
              "      <td>-0.407343</td>\n",
              "    </tr>\n",
              "    <tr>\n",
              "      <th>2014-12-31</th>\n",
              "      <td>-0.824099</td>\n",
              "    </tr>\n",
              "    <tr>\n",
              "      <th>2015-12-31</th>\n",
              "      <td>-0.698383</td>\n",
              "    </tr>\n",
              "    <tr>\n",
              "      <th>2016-12-31</th>\n",
              "      <td>-1.200610</td>\n",
              "    </tr>\n",
              "    <tr>\n",
              "      <th>2017-12-31</th>\n",
              "      <td>-0.893487</td>\n",
              "    </tr>\n",
              "    <tr>\n",
              "      <th>2018-12-31</th>\n",
              "      <td>-0.554147</td>\n",
              "    </tr>\n",
              "    <tr>\n",
              "      <th>2019-12-31</th>\n",
              "      <td>-0.433210</td>\n",
              "    </tr>\n",
              "  </tbody>\n",
              "</table>\n",
              "</div>\n",
              "      <button class=\"colab-df-convert\" onclick=\"convertToInteractive('df-cbcb87d2-0bdd-4232-9a4e-e1cea9b35cbb')\"\n",
              "              title=\"Convert this dataframe to an interactive table.\"\n",
              "              style=\"display:none;\">\n",
              "        \n",
              "  <svg xmlns=\"http://www.w3.org/2000/svg\" height=\"24px\"viewBox=\"0 0 24 24\"\n",
              "       width=\"24px\">\n",
              "    <path d=\"M0 0h24v24H0V0z\" fill=\"none\"/>\n",
              "    <path d=\"M18.56 5.44l.94 2.06.94-2.06 2.06-.94-2.06-.94-.94-2.06-.94 2.06-2.06.94zm-11 1L8.5 8.5l.94-2.06 2.06-.94-2.06-.94L8.5 2.5l-.94 2.06-2.06.94zm10 10l.94 2.06.94-2.06 2.06-.94-2.06-.94-.94-2.06-.94 2.06-2.06.94z\"/><path d=\"M17.41 7.96l-1.37-1.37c-.4-.4-.92-.59-1.43-.59-.52 0-1.04.2-1.43.59L10.3 9.45l-7.72 7.72c-.78.78-.78 2.05 0 2.83L4 21.41c.39.39.9.59 1.41.59.51 0 1.02-.2 1.41-.59l7.78-7.78 2.81-2.81c.8-.78.8-2.07 0-2.86zM5.41 20L4 18.59l7.72-7.72 1.47 1.35L5.41 20z\"/>\n",
              "  </svg>\n",
              "      </button>\n",
              "      \n",
              "  <style>\n",
              "    .colab-df-container {\n",
              "      display:flex;\n",
              "      flex-wrap:wrap;\n",
              "      gap: 12px;\n",
              "    }\n",
              "\n",
              "    .colab-df-convert {\n",
              "      background-color: #E8F0FE;\n",
              "      border: none;\n",
              "      border-radius: 50%;\n",
              "      cursor: pointer;\n",
              "      display: none;\n",
              "      fill: #1967D2;\n",
              "      height: 32px;\n",
              "      padding: 0 0 0 0;\n",
              "      width: 32px;\n",
              "    }\n",
              "\n",
              "    .colab-df-convert:hover {\n",
              "      background-color: #E2EBFA;\n",
              "      box-shadow: 0px 1px 2px rgba(60, 64, 67, 0.3), 0px 1px 3px 1px rgba(60, 64, 67, 0.15);\n",
              "      fill: #174EA6;\n",
              "    }\n",
              "\n",
              "    [theme=dark] .colab-df-convert {\n",
              "      background-color: #3B4455;\n",
              "      fill: #D2E3FC;\n",
              "    }\n",
              "\n",
              "    [theme=dark] .colab-df-convert:hover {\n",
              "      background-color: #434B5C;\n",
              "      box-shadow: 0px 1px 3px 1px rgba(0, 0, 0, 0.15);\n",
              "      filter: drop-shadow(0px 1px 2px rgba(0, 0, 0, 0.3));\n",
              "      fill: #FFFFFF;\n",
              "    }\n",
              "  </style>\n",
              "\n",
              "      <script>\n",
              "        const buttonEl =\n",
              "          document.querySelector('#df-cbcb87d2-0bdd-4232-9a4e-e1cea9b35cbb button.colab-df-convert');\n",
              "        buttonEl.style.display =\n",
              "          google.colab.kernel.accessAllowed ? 'block' : 'none';\n",
              "\n",
              "        async function convertToInteractive(key) {\n",
              "          const element = document.querySelector('#df-cbcb87d2-0bdd-4232-9a4e-e1cea9b35cbb');\n",
              "          const dataTable =\n",
              "            await google.colab.kernel.invokeFunction('convertToInteractive',\n",
              "                                                     [key], {});\n",
              "          if (!dataTable) return;\n",
              "\n",
              "          const docLinkHtml = 'Like what you see? Visit the ' +\n",
              "            '<a target=\"_blank\" href=https://colab.research.google.com/notebooks/data_table.ipynb>data table notebook</a>'\n",
              "            + ' to learn more about interactive tables.';\n",
              "          element.innerHTML = '';\n",
              "          dataTable['output_type'] = 'display_data';\n",
              "          await google.colab.output.renderOutput(dataTable, element);\n",
              "          const docLink = document.createElement('div');\n",
              "          docLink.innerHTML = docLinkHtml;\n",
              "          element.appendChild(docLink);\n",
              "        }\n",
              "      </script>\n",
              "    </div>\n",
              "  </div>\n",
              "  "
            ]
          },
          "metadata": {},
          "execution_count": 162
        }
      ]
    },
    {
      "cell_type": "markdown",
      "source": [
        "1.Uma série temporal do tipo ruído branco Gaussiano consiste de uma sequencia de $w_{t}$ variáveis aleatórias gausianas independentes com média 0(zero)  e variância $σ^2_{w}$.\n",
        "\n",
        "* Simular uma série (gerar a série) com n=500 observações de ruído branco\n",
        "Gaussiano (Gaussian White noise) com variância 1.     Plotar essa série temporal.\n",
        "* Calcular a ACF amostral até o lag 20 e plotar.\n",
        "* Calcular analiticamente a ACF (a partir da definição de ruído branco Gaussiano) e comparar com a ACF amostral.\n",
        "* Discutir se a série gerada é estacionária (tanto do ponto de vista dos gráficos quanto do ponto de vista analítico).\n",
        "* Obter e plotar uma série temporal que é a média móvel com janela 3 (três) da série gerada.\n",
        "\n",
        "\n",
        "\n",
        "\n"
      ],
      "metadata": {
        "id": "gaj-EpAJZaCZ"
      }
    },
    {
      "cell_type": "code",
      "source": [
        "valormedio = 0.0\n",
        "desviopadrao = 1\n",
        "numeropontos = 500\n",
        " \n",
        "df = np.random.normal(loc=valormedio, scale=desviopadrao, size=numeropontos)\n",
        " \n",
        "plt.plot(df)\n"
      ],
      "metadata": {
        "colab": {
          "base_uri": "https://localhost:8080/",
          "height": 286
        },
        "id": "PaQNL5IXynCq",
        "outputId": "359fa9c0-5b70-4d61-845b-5d7c704e4bd5"
      },
      "execution_count": null,
      "outputs": [
        {
          "output_type": "execute_result",
          "data": {
            "text/plain": [
              "[<matplotlib.lines.Line2D at 0x7f98f2943710>]"
            ]
          },
          "metadata": {},
          "execution_count": 273
        },
        {
          "output_type": "display_data",
          "data": {
            "text/plain": [
              "<Figure size 432x288 with 1 Axes>"
            ],
            "image/png": "[encoded data removed]"
          },
          "metadata": {
            "needs_background": "light"
          }
        }
      ]
    },
    {
      "cell_type": "code",
      "source": [
        ""
      ],
      "metadata": {
        "id": "2juOzHAwdDT6"
      },
      "execution_count": null,
      "outputs": []
    },
    {
      "cell_type": "markdown",
      "source": [
        "#**Testando**\n",
        "\n",
        "##**Função para fazer o teste de estacionaridade**"
      ],
      "metadata": {
        "id": "xV9H-W8bVRla"
      }
    },
    {
      "cell_type": "code",
      "source": [
        "def adf(series, p_value=0.05):\n",
        "  results = adfuller(series)\n",
        "  print('Test result: ',results[0])\n",
        "  if results[1] <= p_value:\n",
        "    print('Stationary')\n",
        "  else:\n",
        "    print('Non Stationary')"
      ],
      "metadata": {
        "id": "JjRzc8vrRXG9"
      },
      "execution_count": null,
      "outputs": []
    },
    {
      "cell_type": "code",
      "source": [
        "valormedio = 0.0\n",
        "desviopadrao = 1\n",
        "numeropontos = 500\n",
        " \n",
        "df = np.random.normal(loc=valormedio, scale=desviopadrao, size=numeropontos)\n",
        " \n",
        "plt.plot(df)\n"
      ],
      "metadata": {
        "colab": {
          "base_uri": "https://localhost:8080/",
          "height": 286
        },
        "id": "Cr8J5OjcXRMJ",
        "outputId": "f4a3ae41-23ea-4832-a239-545a80a69a0e"
      },
      "execution_count": null,
      "outputs": [
        {
          "output_type": "execute_result",
          "data": {
            "text/plain": [
              "[<matplotlib.lines.Line2D at 0x7f98f253e990>]"
            ]
          },
          "metadata": {},
          "execution_count": 275
        },
        {
          "output_type": "display_data",
          "data": {
            "text/plain": [
              "<Figure size 432x288 with 1 Axes>"
            ],
            "image/png": "[encoded data removed]"
          },
          "metadata": {
            "needs_background": "light"
          }
        }
      ]
    },
    {
      "cell_type": "code",
      "source": [
        "adf(df)"
      ],
      "metadata": {
        "colab": {
          "base_uri": "https://localhost:8080/"
        },
        "id": "csvRJ02ZWBYh",
        "outputId": "b3efabcf-ebac-477b-f2ea-ce9e6d148ced"
      },
      "execution_count": null,
      "outputs": [
        {
          "output_type": "stream",
          "name": "stdout",
          "text": [
            "Test result:  -22.90252389607437\n",
            "Stationary\n"
          ]
        }
      ]
    },
    {
      "cell_type": "markdown",
      "source": [
        "###**O resultado deu como série estacionária graficamente**"
      ],
      "metadata": {
        "id": "80nH-H4tYGf4"
      }
    },
    {
      "cell_type": "markdown",
      "source": [
        "#**Tranfromação logaritmica**"
      ],
      "metadata": {
        "id": "dgFXdYPeX-UN"
      }
    },
    {
      "cell_type": "code",
      "source": [
        "log_df = np.log(20)"
      ],
      "metadata": {
        "id": "BSIDHa3FTs5M"
      },
      "execution_count": null,
      "outputs": []
    },
    {
      "cell_type": "code",
      "source": [
        "valormedio = 0.0\n",
        "desviopadrao = 1\n",
        "numeropontos = 500\n",
        " \n",
        "df = np.random.normal(loc=valormedio, scale=desviopadrao, size=numeropontos)\n",
        "\n",
        "plt.plot(log_df)"
      ],
      "metadata": {
        "colab": {
          "base_uri": "https://localhost:8080/",
          "height": 286
        },
        "id": "L0QDoCrG4P0x",
        "outputId": "0e2570bc-ab05-4bed-b348-bacd339db19b"
      },
      "execution_count": null,
      "outputs": [
        {
          "output_type": "execute_result",
          "data": {
            "text/plain": [
              "[<matplotlib.lines.Line2D at 0x7f98f24ae350>]"
            ]
          },
          "metadata": {},
          "execution_count": 278
        },
        {
          "output_type": "display_data",
          "data": {
            "text/plain": [
              "<Figure size 432x288 with 1 Axes>"
            ],
            "image/png": "[encoded data removed]"
          },
          "metadata": {
            "needs_background": "light"
          }
        }
      ]
    },
    {
      "cell_type": "code",
      "source": [
        "adf(df)"
      ],
      "metadata": {
        "colab": {
          "base_uri": "https://localhost:8080/"
        },
        "id": "452fGPJbau9X",
        "outputId": "de6e8294-e253-4292-87e3-7d9095dce83f"
      },
      "execution_count": null,
      "outputs": [
        {
          "output_type": "stream",
          "name": "stdout",
          "text": [
            "Test result:  -15.095947720914493\n",
            "Stationary\n"
          ]
        }
      ]
    },
    {
      "cell_type": "markdown",
      "source": [
        "#****"
      ],
      "metadata": {
        "id": "OlncDslDe2Ja"
      }
    },
    {
      "cell_type": "code",
      "source": [
        "diff_df = np.diff(df)\n",
        "plt.plot(diff_df);"
      ],
      "metadata": {
        "colab": {
          "base_uri": "https://localhost:8080/",
          "height": 269
        },
        "id": "dpXUrFeye3G1",
        "outputId": "80e08871-8dca-4e7d-8c53-a0432cfef1ce"
      },
      "execution_count": null,
      "outputs": [
        {
          "output_type": "display_data",
          "data": {
            "text/plain": [
              "<Figure size 432x288 with 1 Axes>"
            ],
            "image/png": "[encoded data removed]"
          },
          "metadata": {
            "needs_background": "light"
          }
        }
      ]
    },
    {
      "cell_type": "code",
      "source": [
        "adf(diff_df)"
      ],
      "metadata": {
        "colab": {
          "base_uri": "https://localhost:8080/"
        },
        "id": "clKI9f06fJfl",
        "outputId": "c3fd3374-21e5-40e7-90cf-b0627c681e4c"
      },
      "execution_count": null,
      "outputs": [
        {
          "output_type": "stream",
          "name": "stdout",
          "text": [
            "Test result:  -9.02636998479812\n",
            "Stationary\n"
          ]
        }
      ]
    },
    {
      "cell_type": "code",
      "source": [
        "plot_acf(diff_df);"
      ],
      "metadata": {
        "colab": {
          "base_uri": "https://localhost:8080/",
          "height": 289
        },
        "id": "3HmtAihWfVFm",
        "outputId": "6c20a84c-eaa7-4b43-9c79-792a54bb85d5"
      },
      "execution_count": null,
      "outputs": [
        {
          "output_type": "display_data",
          "data": {
            "text/plain": [
              "<Figure size 432x288 with 1 Axes>"
            ],
            "image/png": "[encoded data removed]"
          },
          "metadata": {
            "needs_background": "light"
          }
        }
      ]
    },
    {
      "cell_type": "code",
      "source": [
        "plot_pacf(diff_df);\n",
        "#ARIMA (0,1,500)-> Random Walk"
      ],
      "metadata": {
        "colab": {
          "base_uri": "https://localhost:8080/",
          "height": 289
        },
        "id": "43FXsNoehOP9",
        "outputId": "86d990cd-5785-41e3-ced0-d54106ebe1d7"
      },
      "execution_count": null,
      "outputs": [
        {
          "output_type": "display_data",
          "data": {
            "text/plain": [
              "<Figure size 432x288 with 1 Axes>"
            ],
            "image/png": "[encoded data removed]"
          },
          "metadata": {
            "needs_background": "light"
          }
        }
      ]
    },
    {
      "cell_type": "markdown",
      "source": [
        "###**Resultado analítico deu série estacionária**"
      ],
      "metadata": {
        "id": "Z552FQ8oeE8V"
      }
    },
    {
      "cell_type": "markdown",
      "source": [
        "2. Repetir a questão 1 do exercício considerando apenas n=50 observações. Como a mudança em n afeta os resultados? (discutir)"
      ],
      "metadata": {
        "id": "Hbkzdd15bq5C"
      }
    },
    {
      "cell_type": "code",
      "source": [
        "\n",
        "valormedio = 0.0\n",
        "desviopadrao = 1\n",
        "numeropontos = 50\n",
        " \n",
        "df = np.random.normal(loc=valormedio, scale=desviopadrao, size=numeropontos)\n",
        " \n",
        "plt.plot(df)\n",
        "plt.show()"
      ],
      "metadata": {
        "id": "1pq_9_i2b3nX",
        "colab": {
          "base_uri": "https://localhost:8080/",
          "height": 269
        },
        "outputId": "2fe668fe-0e9a-4363-800a-81a73944e8d6"
      },
      "execution_count": null,
      "outputs": [
        {
          "output_type": "display_data",
          "data": {
            "text/plain": [
              "<Figure size 432x288 with 1 Axes>"
            ],
            "image/png": "[encoded data removed]"
          },
          "metadata": {
            "needs_background": "light"
          }
        }
      ]
    },
    {
      "cell_type": "markdown",
      "source": [
        "3. Dada a série abaxo faça a análise exploratória dela e realize as operações a seguir."
      ],
      "metadata": {
        "id": "ydWwGxamb7U6"
      }
    },
    {
      "cell_type": "markdown",
      "source": [
        "a)Produza um gráfico dos dados da sére. Faça um gráfico da série agregada e faça um boxplot que sumarize os dados observados para cada um dos períodos sazonais. Comente a respeitos dos resultados obtidos em cada um dos gráficos. (Dica: busque por dados agregados em dados de séries temporais e boxplot em séries temporais)"
      ],
      "metadata": {
        "id": "rzxHpnJlJHA5"
      }
    },
    {
      "cell_type": "code",
      "source": [
        ""
      ],
      "metadata": {
        "id": "PK-iyjyb4Px_"
      },
      "execution_count": null,
      "outputs": []
    },
    {
      "cell_type": "code",
      "source": [
        ""
      ],
      "metadata": {
        "id": "pzyuXPzJ4PvC"
      },
      "execution_count": null,
      "outputs": []
    },
    {
      "cell_type": "code",
      "source": [
        ""
      ],
      "metadata": {
        "id": "4IP7cE3l4Prv"
      },
      "execution_count": null,
      "outputs": []
    },
    {
      "cell_type": "code",
      "source": [
        ""
      ],
      "metadata": {
        "id": "Ik11MLYV4PkL"
      },
      "execution_count": null,
      "outputs": []
    },
    {
      "cell_type": "code",
      "source": [
        ""
      ],
      "metadata": {
        "id": "bXxfTRc24Pdn"
      },
      "execution_count": null,
      "outputs": []
    },
    {
      "cell_type": "code",
      "source": [
        ""
      ],
      "metadata": {
        "id": "mrrai_Jf4PaZ"
      },
      "execution_count": null,
      "outputs": []
    },
    {
      "cell_type": "code",
      "source": [
        "import pandas as pd\n",
        "\n",
        "df = pd.read_csv('croaciaPop.csv')\n"
      ],
      "metadata": {
        "id": "fY7HpVliiQEe"
      },
      "execution_count": null,
      "outputs": []
    },
    {
      "cell_type": "code",
      "source": [
        "df.info()"
      ],
      "metadata": {
        "colab": {
          "base_uri": "https://localhost:8080/"
        },
        "id": "H0s4jsXXjmZ6",
        "outputId": "834e79d5-eb81-4f20-cfd3-6f398d4cf36b"
      },
      "execution_count": null,
      "outputs": [
        {
          "output_type": "stream",
          "name": "stdout",
          "text": [
            "<class 'pandas.core.frame.DataFrame'>\n",
            "RangeIndex: 59 entries, 0 to 58\n",
            "Data columns (total 1 columns):\n",
            " #   Column             Non-Null Count  Dtype  \n",
            "---  ------             --------------  -----  \n",
            " 0   0.652691769096606  59 non-null     float64\n",
            "dtypes: float64(1)\n",
            "memory usage: 600.0 bytes\n"
          ]
        }
      ]
    },
    {
      "cell_type": "code",
      "source": [
        "df.head()"
      ],
      "metadata": {
        "colab": {
          "base_uri": "https://localhost:8080/",
          "height": 206
        },
        "id": "aZWhyRujjbPL",
        "outputId": "9648b467-a38d-4241-9e0f-d504fc54ab7e"
      },
      "execution_count": null,
      "outputs": [
        {
          "output_type": "execute_result",
          "data": {
            "text/plain": [
              "   0.652691769096606\n",
              "0           0.703494\n",
              "1           0.687765\n",
              "2           0.641645\n",
              "3           0.657318\n",
              "4           0.693190"
            ],
            "text/html": [
              "\n",
              "  <div id=\"df-e7cc5b33-a9cf-46ea-93ae-71e72b0ddf3d\">\n",
              "    <div class=\"colab-df-container\">\n",
              "      <div>\n",
              "<style scoped>\n",
              "    .dataframe tbody tr th:only-of-type {\n",
              "        vertical-align: middle;\n",
              "    }\n",
              "\n",
              "    .dataframe tbody tr th {\n",
              "        vertical-align: top;\n",
              "    }\n",
              "\n",
              "    .dataframe thead th {\n",
              "        text-align: right;\n",
              "    }\n",
              "</style>\n",
              "<table border=\"1\" class=\"dataframe\">\n",
              "  <thead>\n",
              "    <tr style=\"text-align: right;\">\n",
              "      <th></th>\n",
              "      <th>0.652691769096606</th>\n",
              "    </tr>\n",
              "  </thead>\n",
              "  <tbody>\n",
              "    <tr>\n",
              "      <th>0</th>\n",
              "      <td>0.703494</td>\n",
              "    </tr>\n",
              "    <tr>\n",
              "      <th>1</th>\n",
              "      <td>0.687765</td>\n",
              "    </tr>\n",
              "    <tr>\n",
              "      <th>2</th>\n",
              "      <td>0.641645</td>\n",
              "    </tr>\n",
              "    <tr>\n",
              "      <th>3</th>\n",
              "      <td>0.657318</td>\n",
              "    </tr>\n",
              "    <tr>\n",
              "      <th>4</th>\n",
              "      <td>0.693190</td>\n",
              "    </tr>\n",
              "  </tbody>\n",
              "</table>\n",
              "</div>\n",
              "      <button class=\"colab-df-convert\" onclick=\"convertToInteractive('df-e7cc5b33-a9cf-46ea-93ae-71e72b0ddf3d')\"\n",
              "              title=\"Convert this dataframe to an interactive table.\"\n",
              "              style=\"display:none;\">\n",
              "        \n",
              "  <svg xmlns=\"http://www.w3.org/2000/svg\" height=\"24px\"viewBox=\"0 0 24 24\"\n",
              "       width=\"24px\">\n",
              "    <path d=\"M0 0h24v24H0V0z\" fill=\"none\"/>\n",
              "    <path d=\"M18.56 5.44l.94 2.06.94-2.06 2.06-.94-2.06-.94-.94-2.06-.94 2.06-2.06.94zm-11 1L8.5 8.5l.94-2.06 2.06-.94-2.06-.94L8.5 2.5l-.94 2.06-2.06.94zm10 10l.94 2.06.94-2.06 2.06-.94-2.06-.94-.94-2.06-.94 2.06-2.06.94z\"/><path d=\"M17.41 7.96l-1.37-1.37c-.4-.4-.92-.59-1.43-.59-.52 0-1.04.2-1.43.59L10.3 9.45l-7.72 7.72c-.78.78-.78 2.05 0 2.83L4 21.41c.39.39.9.59 1.41.59.51 0 1.02-.2 1.41-.59l7.78-7.78 2.81-2.81c.8-.78.8-2.07 0-2.86zM5.41 20L4 18.59l7.72-7.72 1.47 1.35L5.41 20z\"/>\n",
              "  </svg>\n",
              "      </button>\n",
              "      \n",
              "  <style>\n",
              "    .colab-df-container {\n",
              "      display:flex;\n",
              "      flex-wrap:wrap;\n",
              "      gap: 12px;\n",
              "    }\n",
              "\n",
              "    .colab-df-convert {\n",
              "      background-color: #E8F0FE;\n",
              "      border: none;\n",
              "      border-radius: 50%;\n",
              "      cursor: pointer;\n",
              "      display: none;\n",
              "      fill: #1967D2;\n",
              "      height: 32px;\n",
              "      padding: 0 0 0 0;\n",
              "      width: 32px;\n",
              "    }\n",
              "\n",
              "    .colab-df-convert:hover {\n",
              "      background-color: #E2EBFA;\n",
              "      box-shadow: 0px 1px 2px rgba(60, 64, 67, 0.3), 0px 1px 3px 1px rgba(60, 64, 67, 0.15);\n",
              "      fill: #174EA6;\n",
              "    }\n",
              "\n",
              "    [theme=dark] .colab-df-convert {\n",
              "      background-color: #3B4455;\n",
              "      fill: #D2E3FC;\n",
              "    }\n",
              "\n",
              "    [theme=dark] .colab-df-convert:hover {\n",
              "      background-color: #434B5C;\n",
              "      box-shadow: 0px 1px 3px 1px rgba(0, 0, 0, 0.15);\n",
              "      filter: drop-shadow(0px 1px 2px rgba(0, 0, 0, 0.3));\n",
              "      fill: #FFFFFF;\n",
              "    }\n",
              "  </style>\n",
              "\n",
              "      <script>\n",
              "        const buttonEl =\n",
              "          document.querySelector('#df-e7cc5b33-a9cf-46ea-93ae-71e72b0ddf3d button.colab-df-convert');\n",
              "        buttonEl.style.display =\n",
              "          google.colab.kernel.accessAllowed ? 'block' : 'none';\n",
              "\n",
              "        async function convertToInteractive(key) {\n",
              "          const element = document.querySelector('#df-e7cc5b33-a9cf-46ea-93ae-71e72b0ddf3d');\n",
              "          const dataTable =\n",
              "            await google.colab.kernel.invokeFunction('convertToInteractive',\n",
              "                                                     [key], {});\n",
              "          if (!dataTable) return;\n",
              "\n",
              "          const docLinkHtml = 'Like what you see? Visit the ' +\n",
              "            '<a target=\"_blank\" href=https://colab.research.google.com/notebooks/data_table.ipynb>data table notebook</a>'\n",
              "            + ' to learn more about interactive tables.';\n",
              "          element.innerHTML = '';\n",
              "          dataTable['output_type'] = 'display_data';\n",
              "          await google.colab.output.renderOutput(dataTable, element);\n",
              "          const docLink = document.createElement('div');\n",
              "          docLink.innerHTML = docLinkHtml;\n",
              "          element.appendChild(docLink);\n",
              "        }\n",
              "      </script>\n",
              "    </div>\n",
              "  </div>\n",
              "  "
            ]
          },
          "metadata": {},
          "execution_count": 134
        }
      ]
    },
    {
      "cell_type": "code",
      "source": [
        ""
      ],
      "metadata": {
        "id": "Q6CVTItPaxYT"
      },
      "execution_count": null,
      "outputs": []
    },
    {
      "cell_type": "code",
      "source": [
        ""
      ],
      "metadata": {
        "id": "q8BNM8CoR9Pz"
      },
      "execution_count": null,
      "outputs": []
    },
    {
      "cell_type": "markdown",
      "source": [
        "b) Decomponha a série nos componentes tendência, sazonalidade, e resíduos,\n",
        "e plote os componentes da série. "
      ],
      "metadata": {
        "id": "bT43j0lAPr78"
      }
    },
    {
      "cell_type": "code",
      "source": [
        ""
      ],
      "metadata": {
        "id": "2Ei6EzIa4lj0"
      },
      "execution_count": null,
      "outputs": []
    },
    {
      "cell_type": "markdown",
      "source": [
        "c) Plote o correlograma da série residual da decomposição anterior e comente os resultados"
      ],
      "metadata": {
        "id": "5sCTvZkmSBmz"
      }
    },
    {
      "cell_type": "code",
      "source": [
        ""
      ],
      "metadata": {
        "id": "n79Dhdt9SNJx"
      },
      "execution_count": null,
      "outputs": []
    },
    {
      "cell_type": "markdown",
      "source": [
        "d)Ajuste um modelo Holt-Winters apropriado aos dados da série anterior, mostre os parâmetros e calcule o erro de predição. Considere para os dados de treinamento os anos de 1960-12-31 a 2000-12-31(inclusive) e para teste os dados de 2001-12-31 a 2019-12-31(inclusive)."
      ],
      "metadata": {
        "id": "7-miPZOuSPkT"
      }
    },
    {
      "cell_type": "code",
      "source": [
        ""
      ],
      "metadata": {
        "id": "o4tNZ_mGS6kI"
      },
      "execution_count": null,
      "outputs": []
    },
    {
      "cell_type": "markdown",
      "source": [
        "e)Ajuste um modelo SARIMA apropriado aos dados da série anterior, mostre os parâmetros e calcule o erro de predição. Considere para os dados de treinamento os anos de 1960-12-31 a 2000-12-31(inclusive) e para teste os dados de 2001-12-31 a 2019-12-31(inclusive). Comente se há melhoia significativa em relação ao erro de predição."
      ],
      "metadata": {
        "id": "zdjq9lhnS73O"
      }
    },
    {
      "cell_type": "code",
      "source": [
        ""
      ],
      "metadata": {
        "id": "o9BedY29TKji"
      },
      "execution_count": null,
      "outputs": []
    }
  ]
}